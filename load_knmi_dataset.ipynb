{
 "cells": [
  {
   "cell_type": "code",
   "execution_count": 1,
   "metadata": {},
   "outputs": [
    {
     "name": "stdout",
     "output_type": "stream",
     "text": [
      "/gpfs/home1/cmeo/Varun/blockGPT\n",
      "gcn96.local.snellius.surf.nl\n"
     ]
    }
   ],
   "source": [
    "import os\n",
    "print(os.getcwd())\n",
    "!module load 2023\n",
    "!hostname"
   ]
  },
  {
   "cell_type": "code",
   "execution_count": 2,
   "metadata": {},
   "outputs": [
    {
     "name": "stdout",
     "output_type": "stream",
     "text": [
      "/gpfs/home1/cmeo/Varun/blockGPT\n"
     ]
    },
    {
     "name": "stderr",
     "output_type": "stream",
     "text": [
      "/home/cmeo/.conda/envs/blockgpt/lib/python3.9/site-packages/tqdm/auto.py:21: TqdmWarning: IProgress not found. Please update jupyter and ipywidgets. See https://ipywidgets.readthedocs.io/en/stable/user_install.html\n",
      "  from .autonotebook import tqdm as notebook_tqdm\n"
     ]
    }
   ],
   "source": [
    "import sys\n",
    "import os\n",
    "import numpy as np\n",
    "import torch\n",
    "from torch.utils.data import DataLoader\n",
    "import matplotlib.pyplot as plt\n",
    "from tqdm.notebook import tqdm\n",
    "\n",
    "# Add the project root to the Python path to allow importing 'nowcasting'\n",
    "#sys.path.insert(0, os.path.abspath(os.path.join(os.getcwd(), '../..')))\n",
    "print(os.getcwd())\n",
    "from dataset_knmi import KNMITorchDataset\n",
    "\n",
    "\n"
   ]
  },
  {
   "cell_type": "code",
   "execution_count": 3,
   "metadata": {},
   "outputs": [
    {
     "name": "stdout",
     "output_type": "stream",
     "text": [
      "Using GPU: NVIDIA H100\n"
     ]
    }
   ],
   "source": [
    "# Check for GPU availability\n",
    "device = torch.device(\"cuda\" if torch.cuda.is_available() else \"cpu\")\n",
    "if torch.cuda.is_available():\n",
    "    print(f\"Using GPU: {torch.cuda.get_device_name(0)}\")\n",
    "else:\n",
    "    print(\"Using CPU\")\n"
   ]
  },
  {
   "cell_type": "code",
   "execution_count": 4,
   "metadata": {},
   "outputs": [
    {
     "name": "stdout",
     "output_type": "stream",
     "text": [
      "\n"
     ]
    },
    {
     "data": {
      "text/plain": [
       "16"
      ]
     },
     "execution_count": 4,
     "metadata": {},
     "output_type": "execute_result"
    }
   ],
   "source": [
    "!echo $SLURM_CPUS_ON_NODE\n",
    "len(os.sched_getaffinity(0))"
   ]
  },
  {
   "cell_type": "code",
   "execution_count": 7,
   "metadata": {},
   "outputs": [
    {
     "name": "stdout",
     "output_type": "stream",
     "text": [
      "Dataset length: 4437\n"
     ]
    }
   ],
   "source": [
    "dataset_dir = '/projects/0/prjs0951/Varun/KNMI/5mins/train'\n",
    "\n",
    "knmi_dataset = KNMITorchDataset(\n",
    "    dataset_dir=dataset_dir,\n",
    "    seq_len=9,\n",
    "    raw_seq_len=9,\n",
    "    sample_mode=\"sequent\",\n",
    "    stride=1,\n",
    "    batch_size=16,  # Inner batch size for the KNMIDataloader\n",
    "    layout=\"NTHW\",\n",
    "    img_size=128\n",
    ")\n",
    "\n",
    "print(f\"Dataset length: {len(knmi_dataset)}\")\n"
   ]
  },
  {
   "cell_type": "code",
   "execution_count": null,
   "metadata": {},
   "outputs": [],
   "source": [
    "dataloader = knmi_dataset.get_torch_dataloader(outer_batch_size=64, num_workers=14)\n",
    "\n",
    "all_data = []\n",
    "for data in dataloader:\n",
    "    all_data.append(data)\n",
    "    print(data.shape)\n",
    "\n",
    "print(\"Finished loading data. Concatenating...\")\n",
    "concatenated_data = torch.cat(all_data, dim=0)\n",
    "\n",
    "print(f\"Shape of the concatenated data: {concatenated_data.shape}\")\n",
    "\n",
    "\n"
   ]
  }
 ],
 "metadata": {
  "kernelspec": {
   "display_name": "blockgpt",
   "language": "python",
   "name": "python3"
  },
  "language_info": {
   "codemirror_mode": {
    "name": "ipython",
    "version": 3
   },
   "file_extension": ".py",
   "mimetype": "text/x-python",
   "name": "python",
   "nbconvert_exporter": "python",
   "pygments_lexer": "ipython3",
   "version": "3.9.21"
  }
 },
 "nbformat": 4,
 "nbformat_minor": 2
}
